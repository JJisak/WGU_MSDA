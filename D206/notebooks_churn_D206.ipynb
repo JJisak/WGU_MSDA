{
  "cells": [
    {
      "cell_type": "markdown",
      "metadata": {},
      "source": [
        "C4. "
      ]
    },
    {
      "cell_type": "code",
      "execution_count": null,
      "metadata": {
        "tags": [],
        "trusted": true
      },
      "outputs": [
        {
          "ename": "",
          "evalue": "",
          "output_type": "error",
          "traceback": [
            "\u001b[1;31mThe kernel failed to start due to the missing module 'pandas'. Consider installing this module.\n",
            "\u001b[1;31mClick <a href='https://aka.ms/kernelFailuresMissingModule'>here</a> for more info.\n",
            "\u001b[1;31mSome of the following files found in the working directory may have prevented the Kernel from starting. Consider renaming them.\n",
            "\u001b[1;31mFile(s): <a href='file:///c%3A/Users/Noub/Desktop/WGU/D206/code.py?line=1'>~\\code.py</a> might need to be renamed.\n",
            "\u001b[1;31mClick <a href='https://aka.ms/JupyterKernelStartFailureOverrideReservedName'>here</a> for more info."
          ]
        }
      ],
      "source": [
        "import pandas as pd\n",
        "import matplotlib.pyplot as plt\n",
        "from sklearn.decomposition import PCA\n",
        "import numpy as np\n",
        "\n",
        "\n",
        "#Read the CSV file containing churn data and store it in the churn DataFrame\n",
        "churn = pd.read_csv('churn_raw_data.csv', index_col=0)\n",
        "\n",
        "#Display information and data types \n",
        "churn.info()"
      ]
    },
    {
      "cell_type": "code",
      "execution_count": null,
      "metadata": {
        "trusted": true
      },
      "outputs": [
        {
          "ename": "",
          "evalue": "",
          "output_type": "error",
          "traceback": [
            "\u001b[1;31mThe kernel failed to start due to the missing module 'pandas'. Consider installing this module.\n",
            "\u001b[1;31mClick <a href='https://aka.ms/kernelFailuresMissingModule'>here</a> for more info.\n",
            "\u001b[1;31mSome of the following files found in the working directory may have prevented the Kernel from starting. Consider renaming them.\n",
            "\u001b[1;31mFile(s): <a href='file:///c%3A/Users/Noub/Desktop/WGU/D206/code.py?line=1'>~\\code.py</a> might need to be renamed.\n",
            "\u001b[1;31mClick <a href='https://aka.ms/JupyterKernelStartFailureOverrideReservedName'>here</a> for more info."
          ]
        }
      ],
      "source": [
        "#Examine first 5 rows of data\n",
        "churn.head()"
      ]
    },
    {
      "cell_type": "code",
      "execution_count": null,
      "metadata": {
        "tags": [],
        "trusted": true
      },
      "outputs": [
        {
          "ename": "",
          "evalue": "",
          "output_type": "error",
          "traceback": [
            "\u001b[1;31mThe kernel failed to start due to the missing module 'pandas'. Consider installing this module.\n",
            "\u001b[1;31mClick <a href='https://aka.ms/kernelFailuresMissingModule'>here</a> for more info.\n",
            "\u001b[1;31mSome of the following files found in the working directory may have prevented the Kernel from starting. Consider renaming them.\n",
            "\u001b[1;31mFile(s): <a href='file:///c%3A/Users/Noub/Desktop/WGU/D206/code.py?line=1'>~\\code.py</a> might need to be renamed.\n",
            "\u001b[1;31mClick <a href='https://aka.ms/JupyterKernelStartFailureOverrideReservedName'>here</a> for more info."
          ]
        }
      ],
      "source": [
        "#Generate summary statistics\n",
        "churn.describe()"
      ]
    },
    {
      "cell_type": "code",
      "execution_count": null,
      "metadata": {
        "trusted": true
      },
      "outputs": [
        {
          "ename": "",
          "evalue": "",
          "output_type": "error",
          "traceback": [
            "\u001b[1;31mThe kernel failed to start due to the missing module 'pandas'. Consider installing this module.\n",
            "\u001b[1;31mClick <a href='https://aka.ms/kernelFailuresMissingModule'>here</a> for more info.\n",
            "\u001b[1;31mSome of the following files found in the working directory may have prevented the Kernel from starting. Consider renaming them.\n",
            "\u001b[1;31mFile(s): <a href='file:///c%3A/Users/Noub/Desktop/WGU/D206/code.py?line=1'>~\\code.py</a> might need to be renamed.\n",
            "\u001b[1;31mClick <a href='https://aka.ms/JupyterKernelStartFailureOverrideReservedName'>here</a> for more info."
          ]
        }
      ],
      "source": [
        "#Check if there are duplicate customers using Customer_id (Nkmk, n.d.).\n",
        "duplicate_customer = churn[churn.duplicated(subset=['Customer_id'])]\n",
        "print(duplicate_customer)\n",
        "\n",
        "#Check for duplicate interactions\n",
        "duplicate_interaction = churn[churn.duplicated(['Interaction'])]\n",
        "\n",
        "#Print result\n",
        "print(duplicate_interaction)\n"
      ]
    },
    {
      "cell_type": "code",
      "execution_count": null,
      "metadata": {
        "trusted": true
      },
      "outputs": [
        {
          "ename": "",
          "evalue": "",
          "output_type": "error",
          "traceback": [
            "\u001b[1;31mThe kernel failed to start due to the missing module 'pandas'. Consider installing this module.\n",
            "\u001b[1;31mClick <a href='https://aka.ms/kernelFailuresMissingModule'>here</a> for more info.\n",
            "\u001b[1;31mSome of the following files found in the working directory may have prevented the Kernel from starting. Consider renaming them.\n",
            "\u001b[1;31mFile(s): <a href='file:///c%3A/Users/Noub/Desktop/WGU/D206/code.py?line=1'>~\\code.py</a> might need to be renamed.\n",
            "\u001b[1;31mClick <a href='https://aka.ms/JupyterKernelStartFailureOverrideReservedName'>here</a> for more info."
          ]
        }
      ],
      "source": [
        "#Check for null and NA values\n",
        "null_values = churn.isnull().sum()\n",
        "print(null_values)"
      ]
    },
    {
      "cell_type": "code",
      "execution_count": null,
      "metadata": {},
      "outputs": [
        {
          "ename": "",
          "evalue": "",
          "output_type": "error",
          "traceback": [
            "\u001b[1;31mThe kernel failed to start due to the missing module 'pandas'. Consider installing this module.\n",
            "\u001b[1;31mClick <a href='https://aka.ms/kernelFailuresMissingModule'>here</a> for more info.\n",
            "\u001b[1;31mSome of the following files found in the working directory may have prevented the Kernel from starting. Consider renaming them.\n",
            "\u001b[1;31mFile(s): <a href='file:///c%3A/Users/Noub/Desktop/WGU/D206/code.py?line=1'>~\\code.py</a> might need to be renamed.\n",
            "\u001b[1;31mClick <a href='https://aka.ms/JupyterKernelStartFailureOverrideReservedName'>here</a> for more info."
          ]
        }
      ],
      "source": []
    },
    {
      "cell_type": "code",
      "execution_count": null,
      "metadata": {
        "trusted": true
      },
      "outputs": [
        {
          "ename": "",
          "evalue": "",
          "output_type": "error",
          "traceback": [
            "\u001b[1;31mThe kernel failed to start due to the missing module 'pandas'. Consider installing this module.\n",
            "\u001b[1;31mClick <a href='https://aka.ms/kernelFailuresMissingModule'>here</a> for more info.\n",
            "\u001b[1;31mSome of the following files found in the working directory may have prevented the Kernel from starting. Consider renaming them.\n",
            "\u001b[1;31mFile(s): <a href='file:///c%3A/Users/Noub/Desktop/WGU/D206/code.py?line=1'>~\\code.py</a> might need to be renamed.\n",
            "\u001b[1;31mClick <a href='https://aka.ms/JupyterKernelStartFailureOverrideReservedName'>here</a> for more info."
          ]
        }
      ],
      "source": [
        "# List of columns to exclude\n",
        "exclude_columns = ['item1', 'item2', 'item3', 'item4', 'item5', 'item6', 'item7', 'item8', 'Lat', 'Lng', 'CaseOrder', 'Zip']  \n",
        "\n",
        "# Remove the excluded columns\n",
        "churn_filtered = churn.drop(columns=exclude_columns)\n",
        "\n",
        "# Drop the NA values in the data\n",
        "churn_filtered = churn_filtered.dropna() \n",
        "\n",
        "# Select quantitative columns\n",
        "quantitative_columns = churn_filtered.select_dtypes(include=['float64', 'int64'])\n",
        "\n",
        "# Detect outliers using summary statistics (Chaudhary, 2020)\n",
        "for column in quantitative_columns.columns: \n",
        "    q1 = churn_filtered[column].quantile(0.25)\n",
        "    q3 = churn_filtered[column].quantile(0.75)\n",
        "    iqr = q3 - q1\n",
        "    lower_bound = q1 - 1.5 * iqr\n",
        "    upper_bound = q3 + 1.5 * iqr\n",
        "    outliers = churn_filtered[(churn_filtered[column] < lower_bound) | (churn_filtered[column] > upper_bound)]\n",
        "    if not outliers.empty:\n",
        "        print(f\"Statistics for {column} with outliers:\")\n",
        "        print(outliers[column].describe())\n",
        "        print(f\"Number of outliers: {len(outliers)}\")\n",
        "        print(f\"Lower Bound: {lower_bound}, Upper Bound: {upper_bound}\")\n",
        "        print(f\"Range: {outliers[column].max() - outliers[column].min()}\")\n",
        "        print(\"----\")\n",
        "\n",
        "# Visualize outliers using boxplots\n",
        "plt.figure(figsize=(5, 10))\n",
        "quantitative_columns = churn_filtered.select_dtypes(include=['float64', 'int64'])\n",
        "for column in quantitative_columns.columns:\n",
        "    plt.figure()\n",
        "    churn_filtered.boxplot(column=[column])\n",
        "    plt.title(f'Boxplot of {column}')\n",
        "plt.show()"
      ]
    },
    {
      "cell_type": "code",
      "execution_count": null,
      "metadata": {
        "trusted": true
      },
      "outputs": [
        {
          "ename": "",
          "evalue": "",
          "output_type": "error",
          "traceback": [
            "\u001b[1;31mThe kernel failed to start due to the missing module 'pandas'. Consider installing this module.\n",
            "\u001b[1;31mClick <a href='https://aka.ms/kernelFailuresMissingModule'>here</a> for more info.\n",
            "\u001b[1;31mSome of the following files found in the working directory may have prevented the Kernel from starting. Consider renaming them.\n",
            "\u001b[1;31mFile(s): <a href='file:///c%3A/Users/Noub/Desktop/WGU/D206/code.py?line=1'>~\\code.py</a> might need to be renamed.\n",
            "\u001b[1;31mClick <a href='https://aka.ms/JupyterKernelStartFailureOverrideReservedName'>here</a> for more info."
          ]
        }
      ],
      "source": [
        "# Filter rows where the children column is more than the population\n",
        "pop_error = churn_filtered[churn_filtered['Children'] > churn_filtered['Population']]\n",
        "print(pop_error)"
      ]
    },
    {
      "cell_type": "markdown",
      "metadata": {},
      "source": [
        "D5"
      ]
    },
    {
      "cell_type": "code",
      "execution_count": null,
      "metadata": {
        "trusted": true
      },
      "outputs": [
        {
          "ename": "",
          "evalue": "",
          "output_type": "error",
          "traceback": [
            "\u001b[1;31mThe kernel failed to start due to the missing module 'pandas'. Consider installing this module.\n",
            "\u001b[1;31mClick <a href='https://aka.ms/kernelFailuresMissingModule'>here</a> for more info.\n",
            "\u001b[1;31mSome of the following files found in the working directory may have prevented the Kernel from starting. Consider renaming them.\n",
            "\u001b[1;31mFile(s): <a href='file:///c%3A/Users/Noub/Desktop/WGU/D206/code.py?line=1'>~\\code.py</a> might need to be renamed.\n",
            "\u001b[1;31mClick <a href='https://aka.ms/JupyterKernelStartFailureOverrideReservedName'>here</a> for more info."
          ]
        }
      ],
      "source": [
        "# Impute null values with 0\n",
        "remove_children=churn['Children'].fillna(0, inplace=True)\n",
        "#Verify null count is 0\n",
        "null_children = churn['Children'].isnull().sum()\n",
        "print(null_children)"
      ]
    },
    {
      "cell_type": "code",
      "execution_count": null,
      "metadata": {
        "trusted": true
      },
      "outputs": [
        {
          "ename": "",
          "evalue": "",
          "output_type": "error",
          "traceback": [
            "\u001b[1;31mThe kernel failed to start due to the missing module 'pandas'. Consider installing this module.\n",
            "\u001b[1;31mClick <a href='https://aka.ms/kernelFailuresMissingModule'>here</a> for more info.\n",
            "\u001b[1;31mSome of the following files found in the working directory may have prevented the Kernel from starting. Consider renaming them.\n",
            "\u001b[1;31mFile(s): <a href='file:///c%3A/Users/Noub/Desktop/WGU/D206/code.py?line=1'>~\\code.py</a> might need to be renamed.\n",
            "\u001b[1;31mClick <a href='https://aka.ms/JupyterKernelStartFailureOverrideReservedName'>here</a> for more info."
          ]
        }
      ],
      "source": [
        "#check shape of children column before dropping values\n",
        "print(\"Dimensions of churn before dropping rows:\", churn.shape)\n",
        "\n",
        "#Drop values where children count exceedes population count\n",
        "churn = churn.drop(churn[churn['Children'] > churn['Population']].index)\n",
        "\n",
        "#Verify values from children were dropped\n",
        "print(\"Dimensions of churn after dropping rows:\", churn.shape)\n"
      ]
    },
    {
      "cell_type": "code",
      "execution_count": null,
      "metadata": {
        "trusted": true
      },
      "outputs": [
        {
          "ename": "",
          "evalue": "",
          "output_type": "error",
          "traceback": [
            "\u001b[1;31mThe kernel failed to start due to the missing module 'pandas'. Consider installing this module.\n",
            "\u001b[1;31mClick <a href='https://aka.ms/kernelFailuresMissingModule'>here</a> for more info.\n",
            "\u001b[1;31mSome of the following files found in the working directory may have prevented the Kernel from starting. Consider renaming them.\n",
            "\u001b[1;31mFile(s): <a href='file:///c%3A/Users/Noub/Desktop/WGU/D206/code.py?line=1'>~\\code.py</a> might need to be renamed.\n",
            "\u001b[1;31mClick <a href='https://aka.ms/JupyterKernelStartFailureOverrideReservedName'>here</a> for more info."
          ]
        }
      ],
      "source": [
        "# Replace null values with the column's average for age\n",
        "churn['Age'].fillna(churn['Age'].mean(), inplace=True)\n",
        "\n",
        "# Replace null values with the column's average for income\n",
        "churn['Income'].fillna(churn['Income'].mean(), inplace=True)\n",
        "\n",
        "# Replace null values with the column's average for tenure\n",
        "churn['Tenure'].fillna(churn['Tenure'].mean(), inplace=True)\n",
        "\n",
        "# Replace null values with the column's average for Bandwidth_GB_Year\n",
        "churn['Bandwidth_GB_Year'].fillna(churn['Bandwidth_GB_Year'].mean(), inplace=True)\n",
        "\n",
        "# Verify null values are replaced\n",
        "null_age = churn['Age'].isnull().sum()\n",
        "null_income = churn['Income'].isnull().sum()\n",
        "null_tenure = churn['Tenure'].isnull().sum()\n",
        "null_bandwidth = churn['Bandwidth_GB_Year'].isnull().sum()\n",
        "\n",
        "print(f\"Null values in age after replacement: {null_age}\")\n",
        "print(f\"Null values in income after replacement: {null_income}\")\n",
        "print(f\"Null values in tenure after replacement: {null_tenure}\")\n",
        "print(f\"Null values in Bandwidth_GB_Year after replacement: {null_bandwidth}\")\n"
      ]
    },
    {
      "cell_type": "code",
      "execution_count": null,
      "metadata": {
        "trusted": true
      },
      "outputs": [
        {
          "ename": "",
          "evalue": "",
          "output_type": "error",
          "traceback": [
            "\u001b[1;31mThe kernel failed to start due to the missing module 'pandas'. Consider installing this module.\n",
            "\u001b[1;31mClick <a href='https://aka.ms/kernelFailuresMissingModule'>here</a> for more info.\n",
            "\u001b[1;31mSome of the following files found in the working directory may have prevented the Kernel from starting. Consider renaming them.\n",
            "\u001b[1;31mFile(s): <a href='file:///c%3A/Users/Noub/Desktop/WGU/D206/code.py?line=1'>~\\code.py</a> might need to be renamed.\n",
            "\u001b[1;31mClick <a href='https://aka.ms/JupyterKernelStartFailureOverrideReservedName'>here</a> for more info."
          ]
        }
      ],
      "source": [
        "# Impute null values in the 'Techie' column with the mode value\n",
        "churn['Techie'].fillna(churn['Techie'].mode()[0], inplace=True)\n",
        "\n",
        "# Impute null values in the 'Phone' column with the mode value\n",
        "churn['Phone'].fillna(churn['Phone'].mode()[0], inplace=True)\n",
        "\n",
        "# Impute null values in the 'TechSupport' column with the mode value\n",
        "churn['TechSupport'].fillna(churn['TechSupport'].mode()[0], inplace=True)\n",
        "\n",
        "# Verification\n",
        "null_techie = churn['Techie'].isnull().sum()\n",
        "null_phone = churn['Phone'].isnull().sum()\n",
        "null_techsupport = churn['TechSupport'].isnull().sum()\n",
        "\n",
        "print(f\"Null values in 'Techie' after replacement: {null_techie}\")\n",
        "print(f\"Null values in 'Phone' after replacement: {null_phone}\")\n",
        "print(f\"Null values in 'TechSupport' after replacement: {null_techsupport}\")\n"
      ]
    },
    {
      "cell_type": "code",
      "execution_count": null,
      "metadata": {
        "trusted": true
      },
      "outputs": [
        {
          "ename": "",
          "evalue": "",
          "output_type": "error",
          "traceback": [
            "\u001b[1;31mThe kernel failed to start due to the missing module 'pandas'. Consider installing this module.\n",
            "\u001b[1;31mClick <a href='https://aka.ms/kernelFailuresMissingModule'>here</a> for more info.\n",
            "\u001b[1;31mSome of the following files found in the working directory may have prevented the Kernel from starting. Consider renaming them.\n",
            "\u001b[1;31mFile(s): <a href='file:///c%3A/Users/Noub/Desktop/WGU/D206/code.py?line=1'>~\\code.py</a> might need to be renamed.\n",
            "\u001b[1;31mClick <a href='https://aka.ms/JupyterKernelStartFailureOverrideReservedName'>here</a> for more info."
          ]
        }
      ],
      "source": [
        "# Calculating the bounds using the IQR Method (Chaudhary, 2020).\n",
        "column = 'Outage_sec_perweek'\n",
        "q1 = churn_filtered[column].quantile(0.25)\n",
        "q3 = churn_filtered[column].quantile(0.75)\n",
        "iqr = q3 - q1\n",
        "lower_bound = q1 - 1.5 * iqr\n",
        "upper_bound = q3 + 1.5 * iqr\n",
        "\n",
        "# Keeping a copy of the original churn df before dropping outliers\n",
        "churn_before_outliers = churn_filtered.copy()\n",
        "\n",
        "# Dropping outliers outside the lower and upper bounds\n",
        "churn_filtered = churn_filtered[(churn_filtered[column] >= lower_bound) & (churn_filtered[column] <= upper_bound)]\n",
        "\n",
        "# Verify that outliers were removed\n",
        "print(f\"Number of outliers in {column} before: {len(churn_before_outliers) - len(churn_filtered)}\")\n",
        "print(f\"Number of rows after removing outliers: {len(churn_filtered)}\")\n"
      ]
    },
    {
      "cell_type": "code",
      "execution_count": null,
      "metadata": {
        "trusted": true
      },
      "outputs": [
        {
          "ename": "",
          "evalue": "",
          "output_type": "error",
          "traceback": [
            "\u001b[1;31mThe kernel failed to start due to the missing module 'pandas'. Consider installing this module.\n",
            "\u001b[1;31mClick <a href='https://aka.ms/kernelFailuresMissingModule'>here</a> for more info.\n",
            "\u001b[1;31mSome of the following files found in the working directory may have prevented the Kernel from starting. Consider renaming them.\n",
            "\u001b[1;31mFile(s): <a href='file:///c%3A/Users/Noub/Desktop/WGU/D206/code.py?line=1'>~\\code.py</a> might need to be renamed.\n",
            "\u001b[1;31mClick <a href='https://aka.ms/JupyterKernelStartFailureOverrideReservedName'>here</a> for more info."
          ]
        }
      ],
      "source": [
        "# outout the cleaned data\n",
        "churn.to_csv('cleaned_churn_data.csv', index=False)"
      ]
    },
    {
      "cell_type": "code",
      "execution_count": null,
      "metadata": {
        "trusted": true
      },
      "outputs": [
        {
          "ename": "",
          "evalue": "",
          "output_type": "error",
          "traceback": [
            "\u001b[1;31mThe kernel failed to start due to the missing module 'pandas'. Consider installing this module.\n",
            "\u001b[1;31mClick <a href='https://aka.ms/kernelFailuresMissingModule'>here</a> for more info.\n",
            "\u001b[1;31mSome of the following files found in the working directory may have prevented the Kernel from starting. Consider renaming them.\n",
            "\u001b[1;31mFile(s): <a href='file:///c%3A/Users/Noub/Desktop/WGU/D206/code.py?line=1'>~\\code.py</a> might need to be renamed.\n",
            "\u001b[1;31mClick <a href='https://aka.ms/JupyterKernelStartFailureOverrideReservedName'>here</a> for more info."
          ]
        }
      ],
      "source": [
        "#Peform PCA (Western Governors University, n.d.)\n",
        "\n",
        "# Select quantitative variables\n",
        "quantitative_variables = churn[['Population', 'Children', 'Age', 'Income', 'Outage_sec_perweek', 'Email', 'Contacts', 'Yearly_equip_failure', 'Tenure', 'MonthlyCharge', 'Bandwidth_GB_Year']]\n",
        "\n",
        "# Normalize the data\n",
        "churn_normalized = (quantitative_variables - quantitative_variables.mean()) / quantitative_variables.std()\n",
        "\n",
        "# Define the number of components \n",
        "pca = PCA(n_components=churn_normalized.shape[1])\n",
        "\n",
        "# Fit the PCA on the normalized data\n",
        "pca.fit(churn_normalized)\n",
        "\n",
        "# Create a new dataset of PC\n",
        "churn_pca = pd.DataFrame(pca.transform(churn_normalized), columns=['PC1', 'PC2', 'PC3', 'PC4', 'PC5', 'PC6', 'PC7', 'PC8', 'PC9', 'PC10', 'PC11'])\n",
        "\n",
        "print(churn_pca)\n"
      ]
    },
    {
      "cell_type": "code",
      "execution_count": null,
      "metadata": {
        "trusted": true
      },
      "outputs": [
        {
          "ename": "",
          "evalue": "",
          "output_type": "error",
          "traceback": [
            "\u001b[1;31mThe kernel failed to start due to the missing module 'pandas'. Consider installing this module.\n",
            "\u001b[1;31mClick <a href='https://aka.ms/kernelFailuresMissingModule'>here</a> for more info.\n",
            "\u001b[1;31mSome of the following files found in the working directory may have prevented the Kernel from starting. Consider renaming them.\n",
            "\u001b[1;31mFile(s): <a href='file:///c%3A/Users/Noub/Desktop/WGU/D206/code.py?line=1'>~\\code.py</a> might need to be renamed.\n",
            "\u001b[1;31mClick <a href='https://aka.ms/JupyterKernelStartFailureOverrideReservedName'>here</a> for more info."
          ]
        }
      ],
      "source": [
        "#Plot for variance ratio\n",
        "plt.plot(pca.explained_variance_ratio_)\n",
        "plt.xlabel('number of components')\n",
        "plt.ylabel('explained variance')\n",
        "plt.show()"
      ]
    },
    {
      "cell_type": "code",
      "execution_count": null,
      "metadata": {
        "trusted": true
      },
      "outputs": [
        {
          "ename": "",
          "evalue": "",
          "output_type": "error",
          "traceback": [
            "\u001b[1;31mThe kernel failed to start due to the missing module 'pandas'. Consider installing this module.\n",
            "\u001b[1;31mClick <a href='https://aka.ms/kernelFailuresMissingModule'>here</a> for more info.\n",
            "\u001b[1;31mSome of the following files found in the working directory may have prevented the Kernel from starting. Consider renaming them.\n",
            "\u001b[1;31mFile(s): <a href='file:///c%3A/Users/Noub/Desktop/WGU/D206/code.py?line=1'>~\\code.py</a> might need to be renamed.\n",
            "\u001b[1;31mClick <a href='https://aka.ms/JupyterKernelStartFailureOverrideReservedName'>here</a> for more info."
          ]
        }
      ],
      "source": [
        "# Compute the covariance matrix (Western Governors University, n.d.)\n",
        "cov_matrix = np.dot(churn_normalized.T, churn_normalized) / churn_normalized.shape[0]\n",
        "\n",
        "# Calculate eigenvalues using PCA components\n",
        "eigenvalues = [np.dot(eigenvector.T, np.dot(cov_matrix, eigenvector)) for eigenvector in pca.components_]\n",
        "\n",
        "#Plotting the eigenvalues\n",
        "plt.plot(eigenvalues)\n",
        "plt.xlabel('number of components')\n",
        "plt.ylabel('eigenvalue')\n",
        "plt.show() \n"
      ]
    },
    {
      "cell_type": "code",
      "execution_count": null,
      "metadata": {
        "trusted": true
      },
      "outputs": [
        {
          "ename": "",
          "evalue": "",
          "output_type": "error",
          "traceback": [
            "\u001b[1;31mThe kernel failed to start due to the missing module 'pandas'. Consider installing this module.\n",
            "\u001b[1;31mClick <a href='https://aka.ms/kernelFailuresMissingModule'>here</a> for more info.\n",
            "\u001b[1;31mSome of the following files found in the working directory may have prevented the Kernel from starting. Consider renaming them.\n",
            "\u001b[1;31mFile(s): <a href='file:///c%3A/Users/Noub/Desktop/WGU/D206/code.py?line=1'>~\\code.py</a> might need to be renamed.\n",
            "\u001b[1;31mClick <a href='https://aka.ms/JupyterKernelStartFailureOverrideReservedName'>here</a> for more info."
          ]
        }
      ],
      "source": [
        "#output the loadings for the components (Western Governors University, n.d.)\n",
        "loadings = pd.DataFrame(pca.components_.T, columns=['PC1', 'PC2', 'PC3', 'PC4', 'PC5', 'PC6', 'PC7', 'PC8', 'PC9', 'PC10', 'PC11'], index=quantitative_variables.columns)\n",
        "loadings\n"
      ]
    },
    {
      "cell_type": "code",
      "execution_count": null,
      "metadata": {},
      "outputs": [
        {
          "ename": "",
          "evalue": "",
          "output_type": "error",
          "traceback": [
            "\u001b[1;31mThe kernel failed to start due to the missing module 'pandas'. Consider installing this module.\n",
            "\u001b[1;31mClick <a href='https://aka.ms/kernelFailuresMissingModule'>here</a> for more info.\n",
            "\u001b[1;31mSome of the following files found in the working directory may have prevented the Kernel from starting. Consider renaming them.\n",
            "\u001b[1;31mFile(s): <a href='file:///c%3A/Users/Noub/Desktop/WGU/D206/code.py?line=1'>~\\code.py</a> might need to be renamed.\n",
            "\u001b[1;31mClick <a href='https://aka.ms/JupyterKernelStartFailureOverrideReservedName'>here</a> for more info."
          ]
        }
      ],
      "source": []
    },
    {
      "cell_type": "code",
      "execution_count": null,
      "metadata": {},
      "outputs": [
        {
          "ename": "",
          "evalue": "",
          "output_type": "error",
          "traceback": [
            "\u001b[1;31mThe kernel failed to start due to the missing module 'pandas'. Consider installing this module.\n",
            "\u001b[1;31mClick <a href='https://aka.ms/kernelFailuresMissingModule'>here</a> for more info.\n",
            "\u001b[1;31mSome of the following files found in the working directory may have prevented the Kernel from starting. Consider renaming them.\n",
            "\u001b[1;31mFile(s): <a href='file:///c%3A/Users/Noub/Desktop/WGU/D206/code.py?line=1'>~\\code.py</a> might need to be renamed.\n",
            "\u001b[1;31mClick <a href='https://aka.ms/JupyterKernelStartFailureOverrideReservedName'>here</a> for more info."
          ]
        }
      ],
      "source": []
    }
  ],
  "metadata": {
    "kernelspec": {
      "display_name": "Python 3",
      "language": "python",
      "name": "python3"
    },
    "language_info": {
      "codemirror_mode": {
        "name": "python",
        "version": 3
      },
      "file_extension": ".py",
      "mimetype": "text/x-python",
      "name": "python",
      "nbconvert_exporter": "python",
      "pygments_lexer": "ipython3",
      "version": "3.9.13"
    }
  },
  "nbformat": 4,
  "nbformat_minor": 4
}
