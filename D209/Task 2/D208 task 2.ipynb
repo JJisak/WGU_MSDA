{
  "metadata": {
    "language_info": {
      "codemirror_mode": {
        "name": "python",
        "version": 3
      },
      "file_extension": ".py",
      "mimetype": "text/x-python",
      "name": "python",
      "nbconvert_exporter": "python",
      "pygments_lexer": "ipython3",
      "version": "3.8"
    },
    "kernelspec": {
      "name": "python",
      "display_name": "Python (Pyodide)",
      "language": "python"
    }
  },
  "nbformat_minor": 4,
  "nbformat": 4,
  "cells": [
    {
      "cell_type": "code",
      "source": "import pandas as pd\nimport numpy as np\nfrom sklearn.preprocessing import StandardScaler\nfrom sklearn.model_selection import train_test_split\nfrom sklearn.preprocessing import LabelEncoder\nfrom sklearn.ensemble import RandomForestClassifier\nfrom sklearn.metrics import accuracy_score, classification_report, confusion_matrix\nfrom sklearn.metrics import mean_squared_error\n\n# Loading file\ndf = pd.read_csv('churn_clean.csv')\n\n#Relevant coumns\nselected_columns = ['Outage_sec_perweek', 'Email', 'Contacts', 'Yearly_equip_failure', 'Tenure', 'MonthlyCharge', 'Bandwidth_GB_Year', 'Population', 'Age', 'Income', 'Marital', 'Gender', 'Churn', 'Port_modem', 'Tablet', 'InternetService', 'Phone', 'Multiple', 'OnlineSecurity', 'OnlineBackup', 'DeviceProtection', 'TechSupport', 'StreamingTV', 'StreamingMovies', 'PaperlessBilling', 'PaymentMethod', 'Techie']\n\nselected_describe = df[selected_columns].describe()\nprint(selected_describe)\n",
      "metadata": {
        "trusted": true
      },
      "execution_count": 12,
      "outputs": [
        {
          "name": "stdout",
          "text": "       Outage_sec_perweek         Email      Contacts  Yearly_equip_failure  \\\ncount        10000.000000  10000.000000  10000.000000          10000.000000   \nmean            10.001848     12.016000      0.994200              0.398000   \nstd              2.976019      3.025898      0.988466              0.635953   \nmin              0.099747      1.000000      0.000000              0.000000   \n25%              8.018214     10.000000      0.000000              0.000000   \n50%             10.018560     12.000000      1.000000              0.000000   \n75%             11.969485     14.000000      2.000000              1.000000   \nmax             21.207230     23.000000      7.000000              6.000000   \n\n             Tenure  MonthlyCharge  Bandwidth_GB_Year     Population  \\\ncount  10000.000000   10000.000000       10000.000000   10000.000000   \nmean      34.526188     172.624816        3392.341550    9756.562400   \nstd       26.443063      42.943094        2185.294852   14432.698671   \nmin        1.000259      79.978860         155.506715       0.000000   \n25%        7.917694     139.979239        1236.470827     738.000000   \n50%       35.430507     167.484700        3279.536903    2910.500000   \n75%       61.479795     200.734725        5586.141370   13168.000000   \nmax       71.999280     290.160419        7158.981530  111850.000000   \n\n                Age         Income  \ncount  10000.000000   10000.000000  \nmean      53.078400   39806.926771  \nstd       20.698882   28199.916702  \nmin       18.000000     348.670000  \n25%       35.000000   19224.717500  \n50%       53.000000   33170.605000  \n75%       71.000000   53246.170000  \nmax       89.000000  258900.700000  \n",
          "output_type": "stream"
        }
      ]
    },
    {
      "cell_type": "code",
      "source": "#C1\n\n# Numeric\nnumeric_cols = ['Outage_sec_perweek', 'Email', 'Contacts', 'Yearly_equip_failure', 'Tenure', 'MonthlyCharge', 'Bandwidth_GB_Year', 'Population', 'Age', 'Income']\n\n#categorical \ncategorical_cols = ['Marital', 'Gender', 'Churn', 'Port_modem', 'Tablet', 'InternetService', 'Phone', 'Multiple', 'OnlineSecurity', 'OnlineBackup', 'DeviceProtection', 'TechSupport', 'StreamingTV', 'StreamingMovies', 'PaperlessBilling', 'PaymentMethod', 'Techie']\n\n\n# Encoding categorical variables\nlabel_encoder = LabelEncoder()\nfor col in categorical_cols:\n    df[col] = label_encoder.fit_transform(df[col])\n\n\n# Scaling numeric values\nscaler = StandardScaler()\ndf[numeric_cols] = scaler.fit_transform(df[numeric_cols])\n\n#C4\n\n# Save\ndf.to_csv('Transformed_Data.csv', index=False)\n",
      "metadata": {
        "trusted": true
      },
      "execution_count": 2,
      "outputs": []
    },
    {
      "cell_type": "code",
      "source": "# D2\n\n\n# Relevant columns \nrelevant_columns = ['Outage_sec_perweek', 'Email', 'Contacts', 'Yearly_equip_failure', 'Tenure', 'MonthlyCharge', 'Bandwidth_GB_Year', 'Population', 'Age', 'Income', 'Marital', 'Gender', 'Churn', 'Port_modem', 'Tablet', 'InternetService', 'Phone', 'Multiple', 'OnlineSecurity', 'OnlineBackup', 'DeviceProtection', 'TechSupport', 'StreamingTV', 'StreamingMovies', 'PaperlessBilling', 'PaymentMethod', 'Techie']\n\n# Define x and y\nX = df[relevant_columns].drop('Churn', axis=1) \ny = df['Churn']  \n\n# Split the dataset into 70% training and 30% testing sets\nX_train, X_test, y_train, y_test = train_test_split(X, y, test_size=0.3, random_state=42)\n\n#\n# Save\nX_train.to_csv('train_data.csv', index=False)\nX_test.to_csv('test_data.csv', index=False)\n",
      "metadata": {
        "trusted": true
      },
      "execution_count": 5,
      "outputs": []
    },
    {
      "cell_type": "code",
      "source": "# D3\n\n\n# Random forest classifier (Scikit, n.d.)\nrf_classifier = RandomForestClassifier(random_state=42)\n\n# Fit the classifier on the training data\nrf_classifier.fit(X_train, y_train)\n\n# Predict using the trained model on the test data\ny_pred = rf_classifier.predict(X_test)\n\n# Model evaluation\naccuracy = accuracy_score(y_test, y_pred)\nprint(f\"Accuracy: {accuracy:.4f}\")\n\n# Classification report and confusion matrix\nprint(\"\\nClassification Report:\")\nprint(classification_report(y_test, y_pred))\n\nprint(\"\\nConfusion Matrix:\")\nprint(confusion_matrix(y_test, y_pred))\n\n\n# Obtain predicted probabilities for the churn\ny_pred_prob = rf_classifier.predict_proba(X_test)[:, 1] \ny_pred_regression = np.round(y_pred_prob)\n\n# Calculate Mean Squared Error\nmse = mean_squared_error(y_test, y_pred_regression)\nprint(f\"Mean Squared Error (MSE): {mse:.4f}\")\n\n",
      "metadata": {
        "trusted": true
      },
      "execution_count": 13,
      "outputs": [
        {
          "name": "stdout",
          "text": "Accuracy: 0.8463\n\nClassification Report:\n              precision    recall  f1-score   support\n\n           0       0.86      0.94      0.90      2156\n           1       0.80      0.60      0.69       844\n\n    accuracy                           0.85      3000\n   macro avg       0.83      0.77      0.79      3000\nweighted avg       0.84      0.85      0.84      3000\n\n\nConfusion Matrix:\n[[2029  127]\n [ 334  510]]\nMean Squared Error (MSE): 0.1537\n",
          "output_type": "stream"
        }
      ]
    }
  ]
}