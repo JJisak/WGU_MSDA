{
  "cells": [
    {
      "cell_type": "code",
      "execution_count": 2,
      "metadata": {
        "colab": {
          "base_uri": "https://localhost:8080/"
        },
        "id": "rz9Eq0Pu58GL",
        "outputId": "0822e2b1-442e-4032-ebb6-422d1b86cea0"
      },
      "outputs": [
        {
          "name": "stdout",
          "output_type": "stream",
          "text": [
            "                                  Item01                            Item02  \\\n",
            "0                                    NaN                               NaN   \n",
            "1           Logitech M510 Wireless mouse                         HP 63 Ink   \n",
            "2                                    NaN                               NaN   \n",
            "3  Apple Lightning to Digital AV Adapter  TP-Link AC1750 Smart WiFi Router   \n",
            "4                                    NaN                               NaN   \n",
            "\n",
            "         Item03                      Item04                     Item05  \\\n",
            "0           NaN                         NaN                        NaN   \n",
            "1     HP 65 ink  nonda USB C to USB Adapter  10ft iPHone Charger Cable   \n",
            "2           NaN                         NaN                        NaN   \n",
            "3  Apple Pencil                         NaN                        NaN   \n",
            "4           NaN                         NaN                        NaN   \n",
            "\n",
            "         Item06                        Item07  \\\n",
            "0           NaN                           NaN   \n",
            "1  HP 902XL ink  Creative Pebble 2.0 Speakers   \n",
            "2           NaN                           NaN   \n",
            "3           NaN                           NaN   \n",
            "4           NaN                           NaN   \n",
            "\n",
            "                                Item08                         Item09  \\\n",
            "0                                  NaN                            NaN   \n",
            "1  Cleaning Gel Universal Dust Cleaner  Micro Center 32GB Memory card   \n",
            "2                                  NaN                            NaN   \n",
            "3                                  NaN                            NaN   \n",
            "4                                  NaN                            NaN   \n",
            "\n",
            "                                    Item10                        Item11  \\\n",
            "0                                      NaN                           NaN   \n",
            "1  YUNSONG 3pack 6ft Nylon Lightning Cable  TopMate C5 Laptop Cooler pad   \n",
            "2                                      NaN                           NaN   \n",
            "3                                      NaN                           NaN   \n",
            "4                                      NaN                           NaN   \n",
            "\n",
            "                      Item12                        Item13  \\\n",
            "0                        NaN                           NaN   \n",
            "1  Apple USB-C Charger cable  HyperX Cloud Stinger Headset   \n",
            "2                        NaN                           NaN   \n",
            "3                        NaN                           NaN   \n",
            "4                        NaN                           NaN   \n",
            "\n",
            "                        Item14                          Item15  \\\n",
            "0                          NaN                             NaN   \n",
            "1  TONOR USB Gaming Microphone  Dust-Off Compressed Gas 2 pack   \n",
            "2                          NaN                             NaN   \n",
            "3                          NaN                             NaN   \n",
            "4                          NaN                             NaN   \n",
            "\n",
            "                           Item16                 Item17  \\\n",
            "0                             NaN                    NaN   \n",
            "1  3A USB Type C Cable 3 pack 6FT  HOVAMP iPhone charger   \n",
            "2                             NaN                    NaN   \n",
            "3                             NaN                    NaN   \n",
            "4                             NaN                    NaN   \n",
            "\n",
            "                     Item18                                Item19  \\\n",
            "0                       NaN                                   NaN   \n",
            "1  SanDisk Ultra 128GB card  FEEL2NICE 5 pack 10ft Lighning cable   \n",
            "2                       NaN                                   NaN   \n",
            "3                       NaN                                   NaN   \n",
            "4                       NaN                                   NaN   \n",
            "\n",
            "                                Item20  \n",
            "0                                  NaN  \n",
            "1  FEIYOLD Blue light Blocking Glasses  \n",
            "2                                  NaN  \n",
            "3                                  NaN  \n",
            "4                                  NaN  \n"
          ]
        }
      ],
      "source": [
        "#D212 Task 3\n",
        "import pandas as pd\n",
        "from mlxtend.preprocessing import TransactionEncoder\n",
        "from mlxtend.frequent_patterns import apriori, association_rules\n",
        "\n",
        "# Read dataset\n",
        "df = pd.read_csv('teleco_market_basket.csv')\n",
        "\n",
        "print(df.head())\n",
        "\n",
        "# Drop empty rows\n",
        "df = df.dropna(how='all')\n",
        "\n",
        "# Convert all columns to string type\n",
        "df = df.astype(str)\n",
        "\n",
        "# Create a list\n",
        "transactions = df.values.tolist()\n",
        "\n",
        "# Encoder\n",
        "encoder = TransactionEncoder().fit(transactions)\n",
        "\n",
        "# One-hot encode itemsets\n",
        "onehot = encoder.transform(transactions)\n",
        "onehot_df = pd.DataFrame(onehot, columns=encoder.columns_)\n",
        "\n",
        "# Save the processed data\n",
        "onehot_df.to_csv('processed_market_basket_data.csv', index=False)\n"
      ]
    },
    {
      "cell_type": "code",
      "execution_count": 5,
      "metadata": {
        "colab": {
          "base_uri": "https://localhost:8080/"
        },
        "id": "pQ00Jwl26XDn",
        "outputId": "e66cecfa-107d-407c-94fc-0fa050a89355"
      },
      "outputs": [
        {
          "name": "stdout",
          "output_type": "stream",
          "text": [
            "Top Rules:\n",
            "                           antecedents                         consequents  \\\n",
            "14    (Dust-Off Compressed Gas 2 pack)  (VIVO Dual LCD Monitor Desk mount)   \n",
            "15  (VIVO Dual LCD Monitor Desk mount)    (Dust-Off Compressed Gas 2 pack)   \n",
            "13                         (HP 61 ink)    (Dust-Off Compressed Gas 2 pack)   \n",
            "\n",
            "     support  confidence      lift  \n",
            "14  0.059725    0.250559  1.439085  \n",
            "15  0.059725    0.343032  1.439085  \n",
            "13  0.052660    0.321400  1.348332  \n"
          ]
        },
        {
          "name": "stderr",
          "output_type": "stream",
          "text": [
            "/usr/local/lib/python3.10/dist-packages/ipykernel/ipkernel.py:283: DeprecationWarning: `should_run_async` will not call `transform_cell` automatically in the future. Please pass the result to `transformed_cell` argument and any exception that happen during thetransform in `preprocessing_exc_tuple` in IPython 7.17 and above.\n",
            "  and should_run_async(code)\n"
          ]
        }
      ],
      "source": [
        "# Convert transactions\n",
        "te = TransactionEncoder()\n",
        "te_ary = te.fit(transactions).transform(transactions)\n",
        "df_encoded = pd.DataFrame(te_ary, columns=te.columns_)\n",
        "\n",
        "# Apriori algorithm\n",
        "min_support = 0.05\n",
        "frequent_itemsets = apriori(df_encoded, min_support=min_support, use_colnames=True)\n",
        "\n",
        "# Association rules\n",
        "rules = association_rules(frequent_itemsets, metric=\"lift\", min_threshold=1.0)\n",
        "\n",
        "# Filtering out nan values\n",
        "rules = rules[~rules['antecedents'].apply(lambda x: 'nan' in x or frozenset({'nan'}) in x)]\n",
        "rules = rules[~rules['consequents'].apply(lambda x: 'nan' in x or frozenset({'nan'}) in x)]\n",
        "\n",
        "# Sort rules based on lift in descending order to get top rules\n",
        "sorted_rules = rules.sort_values(by='lift', ascending=False)\n",
        "\n",
        "# Extract top 3 rules\n",
        "top_rules = sorted_rules.head(3)\n",
        "# Print top rules\n",
        "print(\"Top Rules:\")\n",
        "print(top_rules[['antecedents', 'consequents', 'support', 'confidence', 'lift']])\n"
      ]
    },
    {
      "cell_type": "markdown",
      "metadata": {
        "id": "v9VvpIXr6LZr"
      },
      "source": [
        "# New Section"
      ]
    }
  ],
  "metadata": {
    "colab": {
      "provenance": []
    },
    "kernelspec": {
      "display_name": "Python 3",
      "name": "python3"
    },
    "language_info": {
      "name": "python"
    }
  },
  "nbformat": 4,
  "nbformat_minor": 0
}
